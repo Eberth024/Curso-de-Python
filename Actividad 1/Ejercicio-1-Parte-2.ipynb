{
 "cells": [
  {
   "cell_type": "markdown",
   "id": "4f9bcf5c",
   "metadata": {},
   "source": [
    "## Parte 2: Simple Arithmetic Operations\n",
    "\n",
    "Create a Python script that performs the following operations and prints the results:\n",
    "\n",
    "1. Addition: Add two numbers and print the result.\n",
    "\n",
    "2. Subtraction: Subtract one number from another and print the result.\n",
    "\n",
    "3. Multiplication: Multiply two numbers and print the result.\n",
    "\n",
    "4. Division: Divide one number by another and print the result.\n",
    "\n",
    "Hint: You can use + for addition, - for subtraction, * for multiplication, and / for division."
   ]
  },
  {
   "cell_type": "code",
   "execution_count": 6,
   "id": "c2d82daa",
   "metadata": {},
   "outputs": [
    {
     "name": "stdout",
     "output_type": "stream",
     "text": [
      "Primer punto\n",
      "5\n"
     ]
    }
   ],
   "source": [
    "print(\"Primer punto\")\n",
    "a=2\n",
    "b=3\n",
    "suma=a+b\n",
    "print(suma)\n"
   ]
  },
  {
   "cell_type": "code",
   "execution_count": 7,
   "id": "2e33df22",
   "metadata": {},
   "outputs": [
    {
     "name": "stdout",
     "output_type": "stream",
     "text": [
      "Segundo punto\n",
      "2\n"
     ]
    }
   ],
   "source": [
    "print(\"Segundo punto\")\n",
    "a=5\n",
    "b=3\n",
    "resta=a-b\n",
    "print(resta)\n"
   ]
  },
  {
   "cell_type": "code",
   "execution_count": 8,
   "id": "a15b3f27",
   "metadata": {},
   "outputs": [
    {
     "name": "stdout",
     "output_type": "stream",
     "text": [
      "Tercer punto\n",
      "9\n"
     ]
    }
   ],
   "source": [
    "print(\"Tercer punto\")\n",
    "a=3\n",
    "b=3\n",
    "producto=a*b\n",
    "print(producto)\n"
   ]
  },
  {
   "cell_type": "code",
   "execution_count": 9,
   "id": "57a73837",
   "metadata": {},
   "outputs": [
    {
     "name": "stdout",
     "output_type": "stream",
     "text": [
      "Cuarto punto\n",
      "3.0\n"
     ]
    }
   ],
   "source": [
    "print(\"Cuarto punto\")\n",
    "a=9\n",
    "b=3\n",
    "division=a/b\n",
    "print(division)\n"
   ]
  }
 ],
 "metadata": {
  "kernelspec": {
   "display_name": "base",
   "language": "python",
   "name": "python3"
  },
  "language_info": {
   "codemirror_mode": {
    "name": "ipython",
    "version": 3
   },
   "file_extension": ".py",
   "mimetype": "text/x-python",
   "name": "python",
   "nbconvert_exporter": "python",
   "pygments_lexer": "ipython3",
   "version": "3.13.5"
  }
 },
 "nbformat": 4,
 "nbformat_minor": 5
}

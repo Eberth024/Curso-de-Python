{
 "cells": [
  {
   "cell_type": "markdown",
   "id": "434aab9f",
   "metadata": {},
   "source": [
    "# Ejercicio 3\n",
    "\n",
    "- Create a new column called \"TA_DIC_ratio\" that is the ratio of TA to DIC\n",
    "- Calculate the mean and standard deviation of the \"TA_DIC_ratio\" for each season\n",
    "- Calculate the mean and standard deviation of the \"TA_DIC_ratio\" for each season and area\n",
    "- Save the results to an Excel file called \"TA_DIC_Season_Areas.xlsx\""
   ]
  },
  {
   "cell_type": "code",
   "execution_count": 9,
   "id": "0c3e2fe5",
   "metadata": {},
   "outputs": [],
   "source": [
    "def import_csv(file):\n",
    "    # Read the file into a DataFrame: df\n",
    "    import pandas as pd\n",
    "    return pd.read_csv(file)"
   ]
  },
  {
   "cell_type": "code",
   "execution_count": 11,
   "id": "70b34af2",
   "metadata": {},
   "outputs": [],
   "source": [
    "# Import the file\n",
    "df = import_csv(\"Terminos_lagoon_TA_DIC_2023_RawData.csv\")"
   ]
  },
  {
   "cell_type": "code",
   "execution_count": 12,
   "id": "ed14cc48",
   "metadata": {},
   "outputs": [
    {
     "name": "stdout",
     "output_type": "stream",
     "text": [
      "Index(['sample', 'date', 'estuary', 'area', 'station', 'layer_depth', 'season',\n",
      "       'chlorophy_microg_l', 'cond_microsiemens_cm', 'depth_m',\n",
      "       'do_percent_sat', 'do_mg_l', 'sal_psu', 'sp_cond_microsiemens_cm',\n",
      "       'turbidity_fnu', 'temp_c', 'latitude', 'longitude', 'dic_micromol_kg',\n",
      "       'ta_micromol_kg', 'dummy_data'],\n",
      "      dtype='object')\n"
     ]
    }
   ],
   "source": [
    "print(df.columns)"
   ]
  },
  {
   "cell_type": "code",
   "execution_count": 41,
   "id": "c4daff0d",
   "metadata": {},
   "outputs": [],
   "source": [
    "ta= df['ta_micromol_kg']\n",
    "dic = df['dic_micromol_kg']\n",
    "season = df['season']\n",
    "area = df['area']\n"
   ]
  },
  {
   "cell_type": "code",
   "execution_count": 33,
   "id": "958ef5bb",
   "metadata": {},
   "outputs": [],
   "source": [
    "# Creamos una nueva columna llamada \"TA_DIC_ratio\" que es la razon de TA a DIC\n",
    "df['TA_DIC_ratio'] = ta / dic\n",
    "ta_dic_ratio = df['TA_DIC_ratio']"
   ]
  },
  {
   "cell_type": "code",
   "execution_count": 42,
   "id": "cf30826f",
   "metadata": {},
   "outputs": [
    {
     "data": {
      "text/html": [
       "<div>\n",
       "<style scoped>\n",
       "    .dataframe tbody tr th:only-of-type {\n",
       "        vertical-align: middle;\n",
       "    }\n",
       "\n",
       "    .dataframe tbody tr th {\n",
       "        vertical-align: top;\n",
       "    }\n",
       "\n",
       "    .dataframe thead th {\n",
       "        text-align: right;\n",
       "    }\n",
       "</style>\n",
       "<table border=\"1\" class=\"dataframe\">\n",
       "  <thead>\n",
       "    <tr style=\"text-align: right;\">\n",
       "      <th></th>\n",
       "      <th>season</th>\n",
       "      <th>mean</th>\n",
       "      <th>std</th>\n",
       "    </tr>\n",
       "  </thead>\n",
       "  <tbody>\n",
       "    <tr>\n",
       "      <th>0</th>\n",
       "      <td>Dry</td>\n",
       "      <td>1.058558</td>\n",
       "      <td>0.086111</td>\n",
       "    </tr>\n",
       "    <tr>\n",
       "      <th>1</th>\n",
       "      <td>Rainy</td>\n",
       "      <td>1.022350</td>\n",
       "      <td>0.100924</td>\n",
       "    </tr>\n",
       "  </tbody>\n",
       "</table>\n",
       "</div>"
      ],
      "text/plain": [
       "  season      mean       std\n",
       "0    Dry  1.058558  0.086111\n",
       "1  Rainy  1.022350  0.100924"
      ]
     },
     "execution_count": 42,
     "metadata": {},
     "output_type": "execute_result"
    }
   ],
   "source": [
    "# Calculamos la media y desviacion estandar de \"TA_DIC_ratio\" para cada temporada\n",
    "season_stats = df.groupby('season')['TA_DIC_ratio'].agg(['mean', 'std']).reset_index()\n",
    "season_stats"
   ]
  },
  {
   "cell_type": "code",
   "execution_count": 43,
   "id": "44504230",
   "metadata": {},
   "outputs": [
    {
     "data": {
      "text/html": [
       "<div>\n",
       "<style scoped>\n",
       "    .dataframe tbody tr th:only-of-type {\n",
       "        vertical-align: middle;\n",
       "    }\n",
       "\n",
       "    .dataframe tbody tr th {\n",
       "        vertical-align: top;\n",
       "    }\n",
       "\n",
       "    .dataframe thead th {\n",
       "        text-align: right;\n",
       "    }\n",
       "</style>\n",
       "<table border=\"1\" class=\"dataframe\">\n",
       "  <thead>\n",
       "    <tr style=\"text-align: right;\">\n",
       "      <th></th>\n",
       "      <th>season</th>\n",
       "      <th>area</th>\n",
       "      <th>mean</th>\n",
       "      <th>std</th>\n",
       "    </tr>\n",
       "  </thead>\n",
       "  <tbody>\n",
       "    <tr>\n",
       "      <th>0</th>\n",
       "      <td>Dry</td>\n",
       "      <td>Coast</td>\n",
       "      <td>1.115766</td>\n",
       "      <td>0.115033</td>\n",
       "    </tr>\n",
       "    <tr>\n",
       "      <th>1</th>\n",
       "      <td>Dry</td>\n",
       "      <td>Plume</td>\n",
       "      <td>1.059687</td>\n",
       "      <td>0.035574</td>\n",
       "    </tr>\n",
       "    <tr>\n",
       "      <th>2</th>\n",
       "      <td>Dry</td>\n",
       "      <td>River</td>\n",
       "      <td>1.000221</td>\n",
       "      <td>0.037747</td>\n",
       "    </tr>\n",
       "    <tr>\n",
       "      <th>3</th>\n",
       "      <td>Rainy</td>\n",
       "      <td>Coast</td>\n",
       "      <td>1.090127</td>\n",
       "      <td>0.129658</td>\n",
       "    </tr>\n",
       "    <tr>\n",
       "      <th>4</th>\n",
       "      <td>Rainy</td>\n",
       "      <td>Plume</td>\n",
       "      <td>1.025544</td>\n",
       "      <td>0.049222</td>\n",
       "    </tr>\n",
       "    <tr>\n",
       "      <th>5</th>\n",
       "      <td>Rainy</td>\n",
       "      <td>River</td>\n",
       "      <td>0.945217</td>\n",
       "      <td>0.025084</td>\n",
       "    </tr>\n",
       "  </tbody>\n",
       "</table>\n",
       "</div>"
      ],
      "text/plain": [
       "  season   area      mean       std\n",
       "0    Dry  Coast  1.115766  0.115033\n",
       "1    Dry  Plume  1.059687  0.035574\n",
       "2    Dry  River  1.000221  0.037747\n",
       "3  Rainy  Coast  1.090127  0.129658\n",
       "4  Rainy  Plume  1.025544  0.049222\n",
       "5  Rainy  River  0.945217  0.025084"
      ]
     },
     "execution_count": 43,
     "metadata": {},
     "output_type": "execute_result"
    }
   ],
   "source": [
    "# Calculamos la media y desviacion estandar de \"TA_DIC_ratio\" para cada temporada y area\n",
    "area_season_stats = df.groupby(['season', 'area'])['TA_DIC_ratio'].agg(['mean', 'std']).reset_index()\n",
    "area_season_stats"
   ]
  },
  {
   "cell_type": "code",
   "execution_count": 45,
   "id": "d9171d6b",
   "metadata": {},
   "outputs": [],
   "source": [
    "# Guardamos los resultados en un archivo Excel llamado \"TA_DIC_Season_Areas.xlsx\"\n",
    "Ejercicios = \"TA_DIC_Season_Areas.xlsx\"\n",
    "import pandas as pd\n",
    "with pd.ExcelWriter(Ejercicios) as writer:\n",
    "    ta_dic_ratio.to_excel(writer, sheet_name='TA_DIC Ratio', index=False)\n",
    "    season_stats.to_excel(writer, sheet_name='Season Stats', index=False)\n",
    "    area_season_stats.to_excel(writer, sheet_name='Area and Season Stats', index=False)"
   ]
  },
  {
   "cell_type": "code",
   "execution_count": null,
   "id": "ce66d733",
   "metadata": {},
   "outputs": [],
   "source": []
  }
 ],
 "metadata": {
  "kernelspec": {
   "display_name": "base",
   "language": "python",
   "name": "python3"
  },
  "language_info": {
   "codemirror_mode": {
    "name": "ipython",
    "version": 3
   },
   "file_extension": ".py",
   "mimetype": "text/x-python",
   "name": "python",
   "nbconvert_exporter": "python",
   "pygments_lexer": "ipython3",
   "version": "3.13.5"
  }
 },
 "nbformat": 4,
 "nbformat_minor": 5
}

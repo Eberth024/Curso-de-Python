{
 "cells": [
  {
   "cell_type": "markdown",
   "id": "434aab9f",
   "metadata": {},
   "source": [
    "# Ejercicio 6\n",
    "\n",
    "-Respond to the following question: When is it appropriate to use the Kolmogorov-Smirnov test instead of the Shapiro-Wilk test?\n",
    "\n",
    "-Based on the previous answer, perform the appropriate test to assess normality in the DIC (Dissolved Inorganic Carbon) and Salinity datasets."
   ]
  },
  {
   "cell_type": "markdown",
   "id": "dcdf59cd",
   "metadata": {},
   "source": [
    "Es apropiado utilizar la prueba de Kolmogórov-Smirnov en lugar de la prueba de Shapiro-Wilk cuando se trabaja con muestras de gran tamaño, ya que la prueba de Shapiro-Wilk es más potente para detectar desviaciones de la normalidad en muestras pequeñas o moderadas. Además, la prueba de Kolmogórov-Smirnov es adecuada cuando se desea comparar una muestra con una distribución teórica específica, ya que permite evaluar la similitud entre la distribución empírica de los datos y cualquier distribución continua conocida, como la normal, exponencial o uniforme. Esto la hace útil en contextos donde los parámetros de la distribución teórica (como la media y la desviación estándar) ya son conocidos y no necesitan estimarse a partir de los datos. En contraste, la prueba de Shapiro-Wilk está diseñada exclusivamente para verificar la normalidad de los datos. Sin embargo, debe tenerse en cuenta que la Kolmogórov-Smirnov es menos sensible a pequeñas desviaciones de la normalidad, por lo que, en estudios donde se requiere una alta precisión en la detección de no normalidad, la prueba de Shapiro-Wilk puede ser más recomendable si el tamaño de la muestra lo permite.\n",
    "\n",
    "The Shapiro-Wilk test is more powerful for small to moderate samples (typically n < 50 or up to n = 2000)."
   ]
  },
  {
   "cell_type": "code",
   "execution_count": 5,
   "id": "0c3e2fe5",
   "metadata": {},
   "outputs": [],
   "source": [
    "def import_csv(file):\n",
    "    # Read the file into a DataFrame: df\n",
    "    import pandas as pd\n",
    "    return pd.read_csv(file)"
   ]
  },
  {
   "cell_type": "code",
   "execution_count": 6,
   "id": "70b34af2",
   "metadata": {},
   "outputs": [],
   "source": [
    "# Import the file\n",
    "path= \"C:\\\\Users\\\\ebert\\\\OneDrive - Universidad Autónoma del Carmen\\\\Curso de Ciencia de Datos\\\\Curso de Python\\\\Bases de datos\\\\Terminos_lagoon_TA_DIC_2023_RawData.csv\"\n",
    "df = import_csv(path)"
   ]
  },
  {
   "cell_type": "code",
   "execution_count": 7,
   "id": "ed14cc48",
   "metadata": {},
   "outputs": [
    {
     "name": "stdout",
     "output_type": "stream",
     "text": [
      "Index(['sample', 'date', 'estuary', 'area', 'station', 'layer_depth', 'season',\n",
      "       'chlorophy_microg_l', 'cond_microsiemens_cm', 'depth_m',\n",
      "       'do_percent_sat', 'do_mg_l', 'sal_psu', 'sp_cond_microsiemens_cm',\n",
      "       'turbidity_fnu', 'temp_c', 'latitude', 'longitude', 'dic_micromol_kg',\n",
      "       'ta_micromol_kg', 'dummy_data'],\n",
      "      dtype='object')\n"
     ]
    }
   ],
   "source": [
    "print(df.columns)"
   ]
  },
  {
   "cell_type": "code",
   "execution_count": 11,
   "id": "326d7dbe",
   "metadata": {},
   "outputs": [
    {
     "name": "stdout",
     "output_type": "stream",
     "text": [
      "Estadístico= 0.85997, p-valor= 0.00000\n",
      "La distribución NO es normal (se rechaza H0)\n"
     ]
    }
   ],
   "source": [
    "from scipy.stats import shapiro\n",
    "\n",
    "ta = df['dic_micromol_kg']\n",
    "\n",
    "stat, p = shapiro(ta)\n",
    "print(f'Estadístico= {stat:.5f}, p-valor= {p:.5f}')\n",
    "if p > 0.05:\n",
    "    print(\"La distribución es normal (no se rechaza H0)\")\n",
    "else:\n",
    "    print(\"La distribución NO es normal (se rechaza H0)\")"
   ]
  },
  {
   "cell_type": "code",
   "execution_count": 12,
   "id": "98c32cbf",
   "metadata": {},
   "outputs": [
    {
     "name": "stdout",
     "output_type": "stream",
     "text": [
      "Estadístico= 0.88666, p-valor= 0.00000\n",
      "La distribución NO es normal (se rechaza H0)\n"
     ]
    }
   ],
   "source": [
    "from scipy.stats import shapiro\n",
    "\n",
    "ta = df['sal_psu']\n",
    "\n",
    "stat, p = shapiro(ta)\n",
    "print(f'Estadístico= {stat:.5f}, p-valor= {p:.5f}')\n",
    "if p > 0.05:\n",
    "    print(\"La distribución es normal (no se rechaza H0)\")\n",
    "else:\n",
    "    print(\"La distribución NO es normal (se rechaza H0)\")"
   ]
  }
 ],
 "metadata": {
  "kernelspec": {
   "display_name": "base",
   "language": "python",
   "name": "python3"
  },
  "language_info": {
   "codemirror_mode": {
    "name": "ipython",
    "version": 3
   },
   "file_extension": ".py",
   "mimetype": "text/x-python",
   "name": "python",
   "nbconvert_exporter": "python",
   "pygments_lexer": "ipython3",
   "version": "3.13.5"
  }
 },
 "nbformat": 4,
 "nbformat_minor": 5
}

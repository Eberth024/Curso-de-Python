{
 "cells": [
  {
   "cell_type": "markdown",
   "id": "434aab9f",
   "metadata": {},
   "source": [
    "# Ejercicio 8\n",
    "\n",
    "Perform Kruskal-Wallis test and plot a box plot for DIC and temperature data\n",
    "\n",
    "Vallat, R. (2018). Pingouin: statistics in Python. Journal of Open Source Software, 3(31), 1026\n",
    "- https://pingouin-stats.org/build/html/index.html\n",
    "- https://doi.org/10.21105/joss.01026"
   ]
  },
  {
   "cell_type": "code",
   "execution_count": 20,
   "id": "0c3e2fe5",
   "metadata": {},
   "outputs": [],
   "source": [
    "def import_csv(file):\n",
    "    # Read the file into a DataFrame: df\n",
    "    import pandas as pd\n",
    "    return pd.read_csv(file)"
   ]
  },
  {
   "cell_type": "code",
   "execution_count": 21,
   "id": "70b34af2",
   "metadata": {},
   "outputs": [],
   "source": [
    "# Import the file\n",
    "path= \"C:\\\\Users\\\\ebert\\\\OneDrive - Universidad Autónoma del Carmen\\\\Curso de Ciencia de Datos\\\\Curso de Python\\\\Bases de datos\\\\Terminos_lagoon_TA_DIC_2023_RawData.csv\"\n",
    "df = import_csv(path)"
   ]
  },
  {
   "cell_type": "code",
   "execution_count": 22,
   "id": "ed14cc48",
   "metadata": {},
   "outputs": [
    {
     "name": "stdout",
     "output_type": "stream",
     "text": [
      "Index(['sample', 'date', 'estuary', 'area', 'station', 'layer_depth', 'season',\n",
      "       'chlorophy_microg_l', 'cond_microsiemens_cm', 'depth_m',\n",
      "       'do_percent_sat', 'do_mg_l', 'sal_psu', 'sp_cond_microsiemens_cm',\n",
      "       'turbidity_fnu', 'temp_c', 'latitude', 'longitude', 'dic_micromol_kg',\n",
      "       'ta_micromol_kg', 'dummy_data'],\n",
      "      dtype='object')\n"
     ]
    }
   ],
   "source": [
    "print(df.columns)"
   ]
  },
  {
   "cell_type": "code",
   "execution_count": 23,
   "id": "2d939b6d",
   "metadata": {},
   "outputs": [],
   "source": [
    "from scipy.stats import kruskal\n",
    "\n",
    "def kruskal_wallis_test(*groups, alpha=0.05):\n",
    "    \"\"\"\n",
    "    Performs the Kruskal-Wallis H-test for independent samples.\n",
    "    Accepts multiple groups as arguments.\n",
    "    Prints the H statistic, p-value, and interpretation.\n",
    "    \"\"\"\n",
    "    result = kruskal(*groups)\n",
    "    \n",
    "    print(f\"H statistic = {result.statistic}\")\n",
    "    print(f\"p-value = {result.pvalue}\")\n",
    "    \n",
    "    if result.pvalue < alpha:\n",
    "        print(\"The difference between groups is statistically significant.\")\n",
    "    else:\n",
    "        print(\"No statistically significant difference between groups.\")"
   ]
  },
  {
   "cell_type": "code",
   "execution_count": 24,
   "id": "2280b41a",
   "metadata": {},
   "outputs": [],
   "source": [
    "import scikit_posthocs as sp\n",
    "# You need to install the scikit-posthocs package: conda install -c conda-forge scikit-posthocs\n",
    "\n",
    "def dunn_posthoc(data, group_col, value_col, p_adjust='bonferroni'):\n",
    "    \"\"\"\n",
    "    Runs Dunn's post-hoc test after Kruskal-Wallis.\n",
    "    \"\"\"\n",
    "    result = sp.posthoc_dunn(data, val_col=value_col, group_col=group_col, p_adjust=p_adjust)\n",
    "    print(result)\n",
    "    return result"
   ]
  },
  {
   "cell_type": "code",
   "execution_count": 25,
   "id": "ab044695",
   "metadata": {},
   "outputs": [
    {
     "data": {
      "image/png": "[encoded data removed]",
      "text/plain": [
       "<Figure size 640x480 with 1 Axes>"
      ]
     },
     "metadata": {},
     "output_type": "display_data"
    }
   ],
   "source": [
    "# Plot ta values for each area of the lagoon using seaborn\n",
    "import seaborn as sns\n",
    "import matplotlib.pyplot as plt\n",
    "\n",
    "sns.boxplot(x='area', y='dic_micromol_kg', data=df, color='green')\n",
    "plt.xlabel('Area of the lagoon')\n",
    "plt.ylabel('DIC (μmol/kg)')\n",
    "plt.title('Dissolved Inorganic Carbon (DIC) by Area of the Lagoon')\n",
    "plt.show()"
   ]
  },
  {
   "cell_type": "code",
   "execution_count": 26,
   "id": "0dbfa8a9",
   "metadata": {},
   "outputs": [],
   "source": [
    "# Select the data for each area of the lagoon\n",
    "dic_river = df[df['area'] == 'River']['dic_micromol_kg']\n",
    "dic_plume = df[df['area'] == 'Plume']['dic_micromol_kg']\n",
    "dic_coast = df[df['area'] == 'Coast']['dic_micromol_kg']"
   ]
  },
  {
   "cell_type": "code",
   "execution_count": 27,
   "id": "f786aa79",
   "metadata": {},
   "outputs": [
    {
     "name": "stdout",
     "output_type": "stream",
     "text": [
      "H statistic = 55.889669058187486\n",
      "p-value = 7.306553461098262e-13\n",
      "The difference between groups is statistically significant.\n"
     ]
    }
   ],
   "source": [
    "# Perform the Kruskal-Wallis test\n",
    "kruskal_wallis_test(dic_river, dic_plume, dic_coast)"
   ]
  },
  {
   "cell_type": "code",
   "execution_count": 28,
   "id": "ce9b0602",
   "metadata": {},
   "outputs": [
    {
     "name": "stdout",
     "output_type": "stream",
     "text": [
      "              Coast     Plume         River\n",
      "Coast  1.000000e+00  0.063144  7.204720e-13\n",
      "Plume  6.314392e-02  1.000000  1.885873e-06\n",
      "River  7.204720e-13  0.000002  1.000000e+00\n"
     ]
    },
    {
     "data": {
      "application/vnd.microsoft.datawrangler.viewer.v0+json": {
       "columns": [
        {
         "name": "index",
         "rawType": "object",
         "type": "string"
        },
        {
         "name": "Coast",
         "rawType": "float64",
         "type": "float"
        },
        {
         "name": "Plume",
         "rawType": "float64",
         "type": "float"
        },
        {
         "name": "River",
         "rawType": "float64",
         "type": "float"
        }
       ],
       "ref": "83bd36b8-4be9-4cf4-b00f-cd28e5987143",
       "rows": [
        [
         "Coast",
         "1.0",
         "0.06314391842749771",
         "7.204719560883086e-13"
        ],
        [
         "Plume",
         "0.06314391842749771",
         "1.0",
         "1.885872912149332e-06"
        ],
        [
         "River",
         "7.204719560883086e-13",
         "1.885872912149332e-06",
         "1.0"
        ]
       ],
       "shape": {
        "columns": 3,
        "rows": 3
       }
      },
      "text/html": [
       "<div>\n",
       "<style scoped>\n",
       "    .dataframe tbody tr th:only-of-type {\n",
       "        vertical-align: middle;\n",
       "    }\n",
       "\n",
       "    .dataframe tbody tr th {\n",
       "        vertical-align: top;\n",
       "    }\n",
       "\n",
       "    .dataframe thead th {\n",
       "        text-align: right;\n",
       "    }\n",
       "</style>\n",
       "<table border=\"1\" class=\"dataframe\">\n",
       "  <thead>\n",
       "    <tr style=\"text-align: right;\">\n",
       "      <th></th>\n",
       "      <th>Coast</th>\n",
       "      <th>Plume</th>\n",
       "      <th>River</th>\n",
       "    </tr>\n",
       "  </thead>\n",
       "  <tbody>\n",
       "    <tr>\n",
       "      <th>Coast</th>\n",
       "      <td>1.000000e+00</td>\n",
       "      <td>0.063144</td>\n",
       "      <td>7.204720e-13</td>\n",
       "    </tr>\n",
       "    <tr>\n",
       "      <th>Plume</th>\n",
       "      <td>6.314392e-02</td>\n",
       "      <td>1.000000</td>\n",
       "      <td>1.885873e-06</td>\n",
       "    </tr>\n",
       "    <tr>\n",
       "      <th>River</th>\n",
       "      <td>7.204720e-13</td>\n",
       "      <td>0.000002</td>\n",
       "      <td>1.000000e+00</td>\n",
       "    </tr>\n",
       "  </tbody>\n",
       "</table>\n",
       "</div>"
      ],
      "text/plain": [
       "              Coast     Plume         River\n",
       "Coast  1.000000e+00  0.063144  7.204720e-13\n",
       "Plume  6.314392e-02  1.000000  1.885873e-06\n",
       "River  7.204720e-13  0.000002  1.000000e+00"
      ]
     },
     "execution_count": 28,
     "metadata": {},
     "output_type": "execute_result"
    }
   ],
   "source": [
    "dunn_posthoc(df, 'area', 'dic_micromol_kg')"
   ]
  },
  {
   "cell_type": "code",
   "execution_count": 29,
   "id": "4cdb41be",
   "metadata": {},
   "outputs": [
    {
     "data": {
      "image/png": "[encoded data removed]",
      "text/plain": [
       "<Figure size 640x480 with 1 Axes>"
      ]
     },
     "metadata": {},
     "output_type": "display_data"
    }
   ],
   "source": [
    "# Plot ta values for each area of the lagoon using seaborn\n",
    "\n",
    "sns.boxplot(x='area', y='temp_c', data=df, color='blue')\n",
    "plt.xlabel('Area of the lagoon')\n",
    "plt.ylabel('T (º)')\n",
    "plt.title('Temperature by Area of the Lagoon')\n",
    "plt.show()"
   ]
  },
  {
   "cell_type": "code",
   "execution_count": 30,
   "id": "b6491d04",
   "metadata": {},
   "outputs": [],
   "source": [
    "# Select the data for each area of the lagoon\n",
    "t_river = df[df['area'] == 'River']['temp_c']\n",
    "t_plume = df[df['area'] == 'Plume']['temp_c']\n",
    "t_coast = df[df['area'] == 'Coast']['temp_c']"
   ]
  },
  {
   "cell_type": "code",
   "execution_count": 31,
   "id": "fb87b68e",
   "metadata": {},
   "outputs": [
    {
     "name": "stdout",
     "output_type": "stream",
     "text": [
      "H statistic = 7.6996429549091365\n",
      "p-value = 0.021283535690208223\n",
      "The difference between groups is statistically significant.\n"
     ]
    }
   ],
   "source": [
    "# Perform the Kruskal-Wallis test\n",
    "kruskal_wallis_test(t_river, t_plume, t_coast)"
   ]
  },
  {
   "cell_type": "code",
   "execution_count": 32,
   "id": "df3174dc",
   "metadata": {},
   "outputs": [
    {
     "name": "stdout",
     "output_type": "stream",
     "text": [
      "          Coast    Plume     River\n",
      "Coast  1.000000  0.06468  0.038761\n",
      "Plume  0.064680  1.00000  1.000000\n",
      "River  0.038761  1.00000  1.000000\n"
     ]
    },
    {
     "data": {
      "application/vnd.microsoft.datawrangler.viewer.v0+json": {
       "columns": [
        {
         "name": "index",
         "rawType": "object",
         "type": "string"
        },
        {
         "name": "Coast",
         "rawType": "float64",
         "type": "float"
        },
        {
         "name": "Plume",
         "rawType": "float64",
         "type": "float"
        },
        {
         "name": "River",
         "rawType": "float64",
         "type": "float"
        }
       ],
       "ref": "e05e8c99-a60e-40d8-8eac-9a64e8a4bc8e",
       "rows": [
        [
         "Coast",
         "1.0",
         "0.06468016674704698",
         "0.03876148053811021"
        ],
        [
         "Plume",
         "0.06468016674704698",
         "1.0",
         "1.0"
        ],
        [
         "River",
         "0.03876148053811021",
         "1.0",
         "1.0"
        ]
       ],
       "shape": {
        "columns": 3,
        "rows": 3
       }
      },
      "text/html": [
       "<div>\n",
       "<style scoped>\n",
       "    .dataframe tbody tr th:only-of-type {\n",
       "        vertical-align: middle;\n",
       "    }\n",
       "\n",
       "    .dataframe tbody tr th {\n",
       "        vertical-align: top;\n",
       "    }\n",
       "\n",
       "    .dataframe thead th {\n",
       "        text-align: right;\n",
       "    }\n",
       "</style>\n",
       "<table border=\"1\" class=\"dataframe\">\n",
       "  <thead>\n",
       "    <tr style=\"text-align: right;\">\n",
       "      <th></th>\n",
       "      <th>Coast</th>\n",
       "      <th>Plume</th>\n",
       "      <th>River</th>\n",
       "    </tr>\n",
       "  </thead>\n",
       "  <tbody>\n",
       "    <tr>\n",
       "      <th>Coast</th>\n",
       "      <td>1.000000</td>\n",
       "      <td>0.06468</td>\n",
       "      <td>0.038761</td>\n",
       "    </tr>\n",
       "    <tr>\n",
       "      <th>Plume</th>\n",
       "      <td>0.064680</td>\n",
       "      <td>1.00000</td>\n",
       "      <td>1.000000</td>\n",
       "    </tr>\n",
       "    <tr>\n",
       "      <th>River</th>\n",
       "      <td>0.038761</td>\n",
       "      <td>1.00000</td>\n",
       "      <td>1.000000</td>\n",
       "    </tr>\n",
       "  </tbody>\n",
       "</table>\n",
       "</div>"
      ],
      "text/plain": [
       "          Coast    Plume     River\n",
       "Coast  1.000000  0.06468  0.038761\n",
       "Plume  0.064680  1.00000  1.000000\n",
       "River  0.038761  1.00000  1.000000"
      ]
     },
     "execution_count": 32,
     "metadata": {},
     "output_type": "execute_result"
    }
   ],
   "source": [
    "dunn_posthoc(df, 'area', 'temp_c')"
   ]
  }
 ],
 "metadata": {
  "kernelspec": {
   "display_name": "entorno_python",
   "language": "python",
   "name": "python3"
  },
  "language_info": {
   "codemirror_mode": {
    "name": "ipython",
    "version": 3
   },
   "file_extension": ".py",
   "mimetype": "text/x-python",
   "name": "python",
   "nbconvert_exporter": "python",
   "pygments_lexer": "ipython3",
   "version": "3.13.5"
  }
 },
 "nbformat": 4,
 "nbformat_minor": 5
}

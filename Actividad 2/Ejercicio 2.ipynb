{
 "cells": [
  {
   "cell_type": "markdown",
   "id": "cde48cca",
   "metadata": {},
   "source": [
    "# Ejercicio 2\n",
    "\n",
    "Create composite functions that evaluate the absolute value of a number."
   ]
  },
  {
   "cell_type": "code",
   "execution_count": null,
   "id": "bce1a147",
   "metadata": {},
   "outputs": [
    {
     "name": "stdout",
     "output_type": "stream",
     "text": [
      "4\n"
     ]
    }
   ],
   "source": [
    "def cnum(a): #Elevar al cuadrado el número\n",
    "    b=a*a\n",
    "    return b\n",
    "\n",
    "print(cnum(-2))"
   ]
  },
  {
   "cell_type": "code",
   "execution_count": null,
   "id": "cd04a89d",
   "metadata": {},
   "outputs": [
    {
     "name": "stdout",
     "output_type": "stream",
     "text": [
      "2.0\n"
     ]
    }
   ],
   "source": [
    "def rnum(b): #Raíz cuadrada del número\n",
    "    c=b**0.5\n",
    "    return c\n",
    "\n",
    "print(rnum(4))"
   ]
  },
  {
   "cell_type": "code",
   "execution_count": 11,
   "id": "69a6b42b",
   "metadata": {},
   "outputs": [
    {
     "name": "stdout",
     "output_type": "stream",
     "text": [
      "10.0\n",
      "10.0\n"
     ]
    }
   ],
   "source": [
    "def absnum(d):\n",
    "    e=rnum(cnum(d))\n",
    "    return e\n",
    "\n",
    "print(absnum(-10))\n",
    "print(absnum(10))"
   ]
  },
  {
   "cell_type": "markdown",
   "id": "86c1ea2c",
   "metadata": {},
   "source": []
  }
 ],
 "metadata": {
  "kernelspec": {
   "display_name": "base",
   "language": "python",
   "name": "python3"
  },
  "language_info": {
   "codemirror_mode": {
    "name": "ipython",
    "version": 3
   },
   "file_extension": ".py",
   "mimetype": "text/x-python",
   "name": "python",
   "nbconvert_exporter": "python",
   "pygments_lexer": "ipython3",
   "version": "3.13.5"
  }
 },
 "nbformat": 4,
 "nbformat_minor": 5
}
